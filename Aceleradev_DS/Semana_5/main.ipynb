{
 "cells": [
  {
   "cell_type": "markdown",
   "metadata": {},
   "source": [
    "# Desafio 4\n",
    "\n",
    "Neste desafio, vamos praticar um pouco sobre testes de hipóteses. Utilizaremos o _data set_ [2016 Olympics in Rio de Janeiro](https://www.kaggle.com/rio2016/olympic-games/), que contém dados sobre os atletas das Olimpíadas de 2016 no Rio de Janeiro.\n",
    "\n",
    "Esse _data set_ conta com informações gerais sobre 11538 atletas como nome, nacionalidade, altura, peso e esporte praticado. Estaremos especialmente interessados nas variáveis numéricas altura (`height`) e peso (`weight`). As análises feitas aqui são parte de uma Análise Exploratória de Dados (EDA).\n",
    "\n",
    "> Obs.: Por favor, não modifique o nome das funções de resposta."
   ]
  },
  {
   "cell_type": "markdown",
   "metadata": {},
   "source": [
    "## _Setup_ geral"
   ]
  },
  {
   "cell_type": "code",
   "execution_count": 1,
   "metadata": {},
   "outputs": [],
   "source": [
    "import pandas as pd\n",
    "import matplotlib.pyplot as plt\n",
    "import numpy as np\n",
    "import scipy.stats as sct\n",
    "import seaborn as sns\n",
    "import statsmodels.api as sm"
   ]
  },
  {
   "cell_type": "code",
   "execution_count": 2,
   "metadata": {},
   "outputs": [],
   "source": [
    "#%matplotlib inline\n",
    "\n",
    "from IPython.core.pylabtools import figsize\n",
    "\n",
    "\n",
    "figsize(12, 8)\n",
    "\n",
    "sns.set()"
   ]
  },
  {
   "cell_type": "code",
   "execution_count": 3,
   "metadata": {},
   "outputs": [],
   "source": [
    "athletes = pd.read_csv(\"athletes.csv\")"
   ]
  },
  {
   "cell_type": "code",
   "execution_count": 4,
   "metadata": {},
   "outputs": [],
   "source": [
    "def get_sample(df, col_name, n=100, seed=42):\n",
    "    \"\"\"Get a sample from a column of a dataframe.\n",
    "    \n",
    "    It drops any numpy.nan entries before sampling. The sampling\n",
    "    is performed without replacement.\n",
    "    \n",
    "    Example of numpydoc for those who haven't seen yet.\n",
    "    \n",
    "    Parameters\n",
    "    ----------\n",
    "    df : pandas.DataFrame\n",
    "        Source dataframe.\n",
    "    col_name : str\n",
    "        Name of the column to be sampled.\n",
    "    n : int\n",
    "        Sample size. Default is 100.\n",
    "    seed : int\n",
    "        Random seed. Default is 42.\n",
    "    \n",
    "    Returns\n",
    "    -------\n",
    "    pandas.Series\n",
    "        Sample of size n from dataframe's column.\n",
    "    \"\"\"\n",
    "    np.random.seed(seed)\n",
    "    \n",
    "    random_idx = np.random.choice(df[col_name].dropna().index, size=n, replace=False)\n",
    "    \n",
    "    return df.loc[random_idx, col_name]"
   ]
  },
  {
   "cell_type": "markdown",
   "metadata": {},
   "source": [
    "## Inicia sua análise a partir daqui"
   ]
  },
  {
   "cell_type": "code",
   "execution_count": 5,
   "metadata": {},
   "outputs": [
    {
     "data": {
      "text/html": [
       "<div>\n",
       "<style scoped>\n",
       "    .dataframe tbody tr th:only-of-type {\n",
       "        vertical-align: middle;\n",
       "    }\n",
       "\n",
       "    .dataframe tbody tr th {\n",
       "        vertical-align: top;\n",
       "    }\n",
       "\n",
       "    .dataframe thead th {\n",
       "        text-align: right;\n",
       "    }\n",
       "</style>\n",
       "<table border=\"1\" class=\"dataframe\">\n",
       "  <thead>\n",
       "    <tr style=\"text-align: right;\">\n",
       "      <th></th>\n",
       "      <th>id</th>\n",
       "      <th>name</th>\n",
       "      <th>nationality</th>\n",
       "      <th>sex</th>\n",
       "      <th>dob</th>\n",
       "      <th>height</th>\n",
       "      <th>weight</th>\n",
       "      <th>sport</th>\n",
       "      <th>gold</th>\n",
       "      <th>silver</th>\n",
       "      <th>bronze</th>\n",
       "    </tr>\n",
       "  </thead>\n",
       "  <tbody>\n",
       "    <tr>\n",
       "      <th>0</th>\n",
       "      <td>736041664</td>\n",
       "      <td>A Jesus Garcia</td>\n",
       "      <td>ESP</td>\n",
       "      <td>male</td>\n",
       "      <td>10/17/69</td>\n",
       "      <td>1.72</td>\n",
       "      <td>64.0</td>\n",
       "      <td>athletics</td>\n",
       "      <td>0</td>\n",
       "      <td>0</td>\n",
       "      <td>0</td>\n",
       "    </tr>\n",
       "    <tr>\n",
       "      <th>1</th>\n",
       "      <td>532037425</td>\n",
       "      <td>A Lam Shin</td>\n",
       "      <td>KOR</td>\n",
       "      <td>female</td>\n",
       "      <td>9/23/86</td>\n",
       "      <td>1.68</td>\n",
       "      <td>56.0</td>\n",
       "      <td>fencing</td>\n",
       "      <td>0</td>\n",
       "      <td>0</td>\n",
       "      <td>0</td>\n",
       "    </tr>\n",
       "    <tr>\n",
       "      <th>2</th>\n",
       "      <td>435962603</td>\n",
       "      <td>Aaron Brown</td>\n",
       "      <td>CAN</td>\n",
       "      <td>male</td>\n",
       "      <td>5/27/92</td>\n",
       "      <td>1.98</td>\n",
       "      <td>79.0</td>\n",
       "      <td>athletics</td>\n",
       "      <td>0</td>\n",
       "      <td>0</td>\n",
       "      <td>1</td>\n",
       "    </tr>\n",
       "    <tr>\n",
       "      <th>3</th>\n",
       "      <td>521041435</td>\n",
       "      <td>Aaron Cook</td>\n",
       "      <td>MDA</td>\n",
       "      <td>male</td>\n",
       "      <td>1/2/91</td>\n",
       "      <td>1.83</td>\n",
       "      <td>80.0</td>\n",
       "      <td>taekwondo</td>\n",
       "      <td>0</td>\n",
       "      <td>0</td>\n",
       "      <td>0</td>\n",
       "    </tr>\n",
       "    <tr>\n",
       "      <th>4</th>\n",
       "      <td>33922579</td>\n",
       "      <td>Aaron Gate</td>\n",
       "      <td>NZL</td>\n",
       "      <td>male</td>\n",
       "      <td>11/26/90</td>\n",
       "      <td>1.81</td>\n",
       "      <td>71.0</td>\n",
       "      <td>cycling</td>\n",
       "      <td>0</td>\n",
       "      <td>0</td>\n",
       "      <td>0</td>\n",
       "    </tr>\n",
       "  </tbody>\n",
       "</table>\n",
       "</div>"
      ],
      "text/plain": [
       "          id            name nationality     sex       dob  height  weight  \\\n",
       "0  736041664  A Jesus Garcia         ESP    male  10/17/69    1.72    64.0   \n",
       "1  532037425      A Lam Shin         KOR  female   9/23/86    1.68    56.0   \n",
       "2  435962603     Aaron Brown         CAN    male   5/27/92    1.98    79.0   \n",
       "3  521041435      Aaron Cook         MDA    male    1/2/91    1.83    80.0   \n",
       "4   33922579      Aaron Gate         NZL    male  11/26/90    1.81    71.0   \n",
       "\n",
       "       sport  gold  silver  bronze  \n",
       "0  athletics     0       0       0  \n",
       "1    fencing     0       0       0  \n",
       "2  athletics     0       0       1  \n",
       "3  taekwondo     0       0       0  \n",
       "4    cycling     0       0       0  "
      ]
     },
     "execution_count": 5,
     "metadata": {},
     "output_type": "execute_result"
    }
   ],
   "source": [
    "# Sua análise começa aqui.\n",
    "athletes.head()"
   ]
  },
  {
   "cell_type": "code",
   "execution_count": 6,
   "metadata": {},
   "outputs": [
    {
     "data": {
      "text/html": [
       "<div>\n",
       "<style scoped>\n",
       "    .dataframe tbody tr th:only-of-type {\n",
       "        vertical-align: middle;\n",
       "    }\n",
       "\n",
       "    .dataframe tbody tr th {\n",
       "        vertical-align: top;\n",
       "    }\n",
       "\n",
       "    .dataframe thead th {\n",
       "        text-align: right;\n",
       "    }\n",
       "</style>\n",
       "<table border=\"1\" class=\"dataframe\">\n",
       "  <thead>\n",
       "    <tr style=\"text-align: right;\">\n",
       "      <th></th>\n",
       "      <th>id</th>\n",
       "      <th>height</th>\n",
       "      <th>weight</th>\n",
       "      <th>gold</th>\n",
       "      <th>silver</th>\n",
       "      <th>bronze</th>\n",
       "    </tr>\n",
       "  </thead>\n",
       "  <tbody>\n",
       "    <tr>\n",
       "      <th>count</th>\n",
       "      <td>1.153800e+04</td>\n",
       "      <td>11208.000000</td>\n",
       "      <td>10879.000000</td>\n",
       "      <td>11538.000000</td>\n",
       "      <td>11538.000000</td>\n",
       "      <td>11538.000000</td>\n",
       "    </tr>\n",
       "    <tr>\n",
       "      <th>mean</th>\n",
       "      <td>4.999885e+08</td>\n",
       "      <td>1.766282</td>\n",
       "      <td>72.068205</td>\n",
       "      <td>0.057722</td>\n",
       "      <td>0.056769</td>\n",
       "      <td>0.061016</td>\n",
       "    </tr>\n",
       "    <tr>\n",
       "      <th>std</th>\n",
       "      <td>2.908648e+08</td>\n",
       "      <td>0.112719</td>\n",
       "      <td>16.177334</td>\n",
       "      <td>0.255910</td>\n",
       "      <td>0.239147</td>\n",
       "      <td>0.243320</td>\n",
       "    </tr>\n",
       "    <tr>\n",
       "      <th>min</th>\n",
       "      <td>1.834700e+04</td>\n",
       "      <td>1.210000</td>\n",
       "      <td>31.000000</td>\n",
       "      <td>0.000000</td>\n",
       "      <td>0.000000</td>\n",
       "      <td>0.000000</td>\n",
       "    </tr>\n",
       "    <tr>\n",
       "      <th>25%</th>\n",
       "      <td>2.450997e+08</td>\n",
       "      <td>1.690000</td>\n",
       "      <td>60.000000</td>\n",
       "      <td>0.000000</td>\n",
       "      <td>0.000000</td>\n",
       "      <td>0.000000</td>\n",
       "    </tr>\n",
       "    <tr>\n",
       "      <th>50%</th>\n",
       "      <td>5.002011e+08</td>\n",
       "      <td>1.760000</td>\n",
       "      <td>70.000000</td>\n",
       "      <td>0.000000</td>\n",
       "      <td>0.000000</td>\n",
       "      <td>0.000000</td>\n",
       "    </tr>\n",
       "    <tr>\n",
       "      <th>75%</th>\n",
       "      <td>7.539874e+08</td>\n",
       "      <td>1.840000</td>\n",
       "      <td>81.000000</td>\n",
       "      <td>0.000000</td>\n",
       "      <td>0.000000</td>\n",
       "      <td>0.000000</td>\n",
       "    </tr>\n",
       "    <tr>\n",
       "      <th>max</th>\n",
       "      <td>9.999878e+08</td>\n",
       "      <td>2.210000</td>\n",
       "      <td>170.000000</td>\n",
       "      <td>5.000000</td>\n",
       "      <td>2.000000</td>\n",
       "      <td>2.000000</td>\n",
       "    </tr>\n",
       "  </tbody>\n",
       "</table>\n",
       "</div>"
      ],
      "text/plain": [
       "                 id        height        weight          gold        silver  \\\n",
       "count  1.153800e+04  11208.000000  10879.000000  11538.000000  11538.000000   \n",
       "mean   4.999885e+08      1.766282     72.068205      0.057722      0.056769   \n",
       "std    2.908648e+08      0.112719     16.177334      0.255910      0.239147   \n",
       "min    1.834700e+04      1.210000     31.000000      0.000000      0.000000   \n",
       "25%    2.450997e+08      1.690000     60.000000      0.000000      0.000000   \n",
       "50%    5.002011e+08      1.760000     70.000000      0.000000      0.000000   \n",
       "75%    7.539874e+08      1.840000     81.000000      0.000000      0.000000   \n",
       "max    9.999878e+08      2.210000    170.000000      5.000000      2.000000   \n",
       "\n",
       "             bronze  \n",
       "count  11538.000000  \n",
       "mean       0.061016  \n",
       "std        0.243320  \n",
       "min        0.000000  \n",
       "25%        0.000000  \n",
       "50%        0.000000  \n",
       "75%        0.000000  \n",
       "max        2.000000  "
      ]
     },
     "execution_count": 6,
     "metadata": {},
     "output_type": "execute_result"
    }
   ],
   "source": [
    "athletes.describe()"
   ]
  },
  {
   "cell_type": "code",
   "execution_count": 7,
   "metadata": {},
   "outputs": [
    {
     "data": {
      "text/plain": [
       "id               int64\n",
       "name            object\n",
       "nationality     object\n",
       "sex             object\n",
       "dob             object\n",
       "height         float64\n",
       "weight         float64\n",
       "sport           object\n",
       "gold             int64\n",
       "silver           int64\n",
       "bronze           int64\n",
       "dtype: object"
      ]
     },
     "execution_count": 7,
     "metadata": {},
     "output_type": "execute_result"
    }
   ],
   "source": [
    "athletes.dtypes"
   ]
  },
  {
   "cell_type": "code",
   "execution_count": 8,
   "metadata": {},
   "outputs": [
    {
     "data": {
      "text/plain": [
       "id               0\n",
       "name             0\n",
       "nationality      0\n",
       "sex              0\n",
       "dob              1\n",
       "height         330\n",
       "weight         659\n",
       "sport            0\n",
       "gold             0\n",
       "silver           0\n",
       "bronze           0\n",
       "dtype: int64"
      ]
     },
     "execution_count": 8,
     "metadata": {},
     "output_type": "execute_result"
    }
   ],
   "source": [
    "athletes.isnull().sum()"
   ]
  },
  {
   "cell_type": "markdown",
   "metadata": {},
   "source": [
    "## Questão 1\n",
    "\n",
    "Considerando uma amostra de tamanho 3000 da coluna `height` obtida com a função `get_sample()`, execute o teste de normalidade de Shapiro-Wilk com a função `scipy.stats.shapiro()`. Podemos afirmar que as alturas são normalmente distribuídas com base nesse teste (ao nível de significância de 5%)? Responda com um boolean (`True` ou `False`)."
   ]
  },
  {
   "cell_type": "code",
   "execution_count": 9,
   "metadata": {},
   "outputs": [
    {
     "data": {
      "text/plain": [
       "False"
      ]
     },
     "execution_count": 9,
     "metadata": {},
     "output_type": "execute_result"
    },
    {
     "data": {
      "image/png": "[encoded data removed]",
      "text/plain": [
       "<Figure size 864x576 with 1 Axes>"
      ]
     },
     "metadata": {},
     "output_type": "display_data"
    },
    {
     "data": {
      "image/png": "[encoded data removed]",
      "text/plain": [
       "<Figure size 864x576 with 1 Axes>"
      ]
     },
     "metadata": {},
     "output_type": "display_data"
    }
   ],
   "source": [
    "# Function defined with plots\n",
    "def plots(data, hist=False, boxplot=False, qqplot=False):\n",
    "    # Plottings\n",
    "    if boxplot:\n",
    "        # Boxplot\n",
    "        data.plot(kind='box')\n",
    "        plt.show()\n",
    "    if hist:\n",
    "        # Histogram\n",
    "        sns.distplot(data, kde=False, bins=25)\n",
    "    if qqplot:\n",
    "        # QQ plot\n",
    "        sm.qqplot(data, fit=True, line=\"45\")\n",
    "\n",
    "# Getting a sample for questions 1 and 2\n",
    "height_sample = get_sample(athletes, \"height\", n=3000, seed=42)  \n",
    "alpha = 0.05  # Significance level for questions 1,2,3 and 4\n",
    "def q1():\n",
    "    # Retorne aqui o resultado da questão 1.\n",
    "    # The Shapiro-Wilk test for normality.\n",
    "    W_value, pvalue = sct.shapiro(height_sample)                    # p-value for the hypothesis test                                                    # Significance level\n",
    "    plots(height_sample, hist=True, qqplot=True)                    # function to do plots of the distribution \n",
    "    # Return the test evaluation (False ou True (Normal))\n",
    "    return bool(pvalue > alpha)\n",
    "    \n",
    "    #pass\n",
    "q1()"
   ]
  },
  {
   "cell_type": "markdown",
   "metadata": {},
   "source": [
    "__Para refletir__:\n",
    "\n",
    "* Plote o histograma dessa variável (com, por exemplo, `bins=25`). A forma do gráfico e o resultado do teste são condizentes? Por que?\n",
    "    \n",
    "    _O histograma mostra uma distribuição próxima a normal. No entanto, o teste de normalidade de Shapiro indica um resultado contrário, considerando um nível de significância de 0.05. Esse resultado pode estar associado ao critério do teste, que nesse caso indica um distribuição não normal._\n",
    "    \n",
    "    \n",
    "* Plote o qq-plot para essa variável e a analise.\n",
    "    \n",
    "    _A partir da visualização do qq-plot, os dados parecem se comportar seguindo um distribuição normal._\n",
    "    \n",
    "    \n",
    "* Existe algum nível de significância razoável que nos dê outro resultado no teste? (Não faça isso na prática. Isso é chamado _p-value hacking_, e não é legal).\n",
    "    \n",
    "    _Apenas para um nível de significância muito baixo a hipótese nula não seria rejeitada._"
   ]
  },
  {
   "cell_type": "markdown",
   "metadata": {},
   "source": [
    "## Questão 2\n",
    "\n",
    "Repita o mesmo procedimento acima, mas agora utilizando o teste de normalidade de Jarque-Bera através da função `scipy.stats.jarque_bera()`. Agora podemos afirmar que as alturas são normalmente distribuídas (ao nível de significância de 5%)? Responda com um boolean (`True` ou `False`)."
   ]
  },
  {
   "cell_type": "code",
   "execution_count": 10,
   "metadata": {},
   "outputs": [
    {
     "data": {
      "text/plain": [
       "False"
      ]
     },
     "execution_count": 10,
     "metadata": {},
     "output_type": "execute_result"
    }
   ],
   "source": [
    "def q2():\n",
    "    # Retorne aqui o resultado da questão 2.\n",
    "    # The Jarque-Bera goodness of fit test on sample data.\n",
    "    jb_value, pvalue = sct.jarque_bera(height_sample)               # p-value for the hypothesis test\n",
    "    \n",
    "    # Return the test evaluation (False ou True (Normal))\n",
    "    return bool(pvalue > alpha)\n",
    "    \n",
    "    #pass\n",
    "q2()"
   ]
  },
  {
   "cell_type": "markdown",
   "metadata": {},
   "source": [
    "__Para refletir__:\n",
    "\n",
    "* Esse resultado faz sentido?\n",
    "\n",
    "    _Faz sentido uma vez que está de acordo com o teste de normalidade Shapiro-Wilk_."
   ]
  },
  {
   "cell_type": "markdown",
   "metadata": {},
   "source": [
    "## Questão 3\n",
    "\n",
    "Considerando agora uma amostra de tamanho 3000 da coluna `weight` obtida com a função `get_sample()`. Faça o teste de normalidade de D'Agostino-Pearson utilizando a função `scipy.stats.normaltest()`. Podemos afirmar que os pesos vêm de uma distribuição normal ao nível de significância de 5%? Responda com um boolean (`True` ou `False`)."
   ]
  },
  {
   "cell_type": "code",
   "execution_count": 11,
   "metadata": {},
   "outputs": [
    {
     "data": {
      "image/png": "[encoded data removed]",
      "text/plain": [
       "<Figure size 864x576 with 1 Axes>"
      ]
     },
     "metadata": {},
     "output_type": "display_data"
    },
    {
     "data": {
      "text/plain": [
       "False"
      ]
     },
     "execution_count": 11,
     "metadata": {},
     "output_type": "execute_result"
    },
    {
     "data": {
      "image/png": "[encoded data removed]",
      "text/plain": [
       "<Figure size 864x576 with 1 Axes>"
      ]
     },
     "metadata": {},
     "output_type": "display_data"
    }
   ],
   "source": [
    "# Getting a sample for questions 3 and 4\n",
    "weight_sample = get_sample(athletes, \"weight\", n=3000, seed=42) # Getting a sample   \n",
    "def q3():\n",
    "    # Retorne aqui o resultado da questão 3.\n",
    "    #  D’Agostino and Pearson’s test\n",
    "    jb_value, pvalue = sct.normaltest(weight_sample)               # p-value for the hypothesis test\n",
    "    plots(weight_sample, hist=True, boxplot=True)                  # function to do plots of the distribution \n",
    "    # Return the test evaluation (False ou True (Normal))\n",
    "    return bool(pvalue > alpha)\n",
    "    #pass\n",
    "q3()"
   ]
  },
  {
   "cell_type": "markdown",
   "metadata": {},
   "source": [
    "__Para refletir__:\n",
    "\n",
    "* Plote o histograma dessa variável (com, por exemplo, `bins=25`). A forma do gráfico e o resultado do teste são condizentes? Por que?\n",
    "\n",
    "    _Nesse caso o histograma não mostra dados próximos de uma distribuição normal. E o teste rejeita a hipótese nula, a qual indica que os dados seguem uma distribuição normal. Dessa forma, a observação visual dos dados e o teste estatístico indicam que os dados d altura não podem ser representados através de uma ditribuição normal._\n",
    "    \n",
    "\n",
    "* Um _box plot_ também poderia ajudar a entender a resposta.\n",
    "\n",
    "    _Observa-se muitos valores acima do limite superior._"
   ]
  },
  {
   "cell_type": "markdown",
   "metadata": {},
   "source": [
    "## Questão 4\n",
    "\n",
    "Realize uma transformação logarítmica em na amostra de `weight` da questão 3 e repita o mesmo procedimento. Podemos afirmar a normalidade da variável transformada ao nível de significância de 5%? Responda com um boolean (`True` ou `False`)."
   ]
  },
  {
   "cell_type": "code",
   "execution_count": 12,
   "metadata": {},
   "outputs": [
    {
     "data": {
      "text/plain": [
       "False"
      ]
     },
     "execution_count": 12,
     "metadata": {},
     "output_type": "execute_result"
    },
    {
     "data": {
      "image/png": "[encoded data removed]",
      "text/plain": [
       "<Figure size 864x576 with 1 Axes>"
      ]
     },
     "metadata": {},
     "output_type": "display_data"
    }
   ],
   "source": [
    "def q4():\n",
    "    # Retorne aqui o resultado da questão 4.\n",
    "    log_weight_sample = np.log(weight_sample)\n",
    "    #  D’Agostino and Pearson’s test\n",
    "    jb_value, pvalue = sct.normaltest(log_weight_sample)           # p-value for the hypothesis test\n",
    "    plots(log_weight_sample, hist=True)                            # function to do plots of the distribution \n",
    "    # Return the test evaluation (False ou True (Normal))\n",
    "    return bool(pvalue > alpha)\n",
    "    #pass\n",
    "q4()"
   ]
  },
  {
   "cell_type": "markdown",
   "metadata": {},
   "source": [
    "__Para refletir__:\n",
    "\n",
    "* Plote o histograma dessa variável (com, por exemplo, `bins=25`). A forma do gráfico e o resultado do teste são condizentes? Por que?\n",
    "\n",
    "    _Nesse caso, o histograma apresenta um comportamento próximo a uma distribuição normal, mas o teste resultou em rejeição da hipótese nula, ou seja, da hipótese de ser uma distribuição normal._\n",
    "\n",
    "\n",
    "* Você esperava um resultado diferente agora?\n",
    "\n",
    "    _O histograma apresenta uma distribuição próxima a normal. No entanto, de forma similar ao obtido na questão 1 e 2, o teste estatístico rejeito a hipótese de normalidade._"
   ]
  },
  {
   "cell_type": "markdown",
   "metadata": {},
   "source": [
    "> __Para as questão 5 6 e 7 a seguir considere todos testes efetuados ao nível de significância de 5%__."
   ]
  },
  {
   "cell_type": "markdown",
   "metadata": {},
   "source": [
    "## Questão 5\n",
    "\n",
    "Obtenha todos atletas brasileiros, norte-americanos e canadenses em `DataFrame`s chamados `bra`, `usa` e `can`,respectivamente. Realize um teste de hipóteses para comparação das médias das alturas (`height`) para amostras independentes e variâncias diferentes com a função `scipy.stats.ttest_ind()` entre `bra` e `usa`. Podemos afirmar que as médias são estatisticamente iguais? Responda com um boolean (`True` ou `False`)."
   ]
  },
  {
   "cell_type": "code",
   "execution_count": 13,
   "metadata": {},
   "outputs": [
    {
     "data": {
      "text/plain": [
       "False"
      ]
     },
     "execution_count": 13,
     "metadata": {},
     "output_type": "execute_result"
    }
   ],
   "source": [
    "# Getting the datas for the questions 5, 6 and 7\n",
    "athletes_bra = athletes[athletes['nationality'] == 'BRA']\n",
    "athletes_usa = athletes[athletes['nationality'] == 'USA']\n",
    "athletes_can = athletes[athletes['nationality'] == 'CAN']\n",
    "\n",
    "alpha = 0.05   # Significance level adopted in all tests.\n",
    "\n",
    "def q5():\n",
    "    # Retorne aqui o resultado da questão 5.\n",
    "\n",
    "    # Hypothesis test for the height of Brazilian and American athletes (The two-tailed p-value)\n",
    "    statistic, pvalue = sct.ttest_ind(athletes_bra['height'], athletes_usa['height'], equal_var=False, nan_policy='omit')\n",
    "    \n",
    "    # HO -> the two averages are statistically equal\n",
    "    # H1 -> the two averages are statistically non equal\n",
    "        # If pvalue < alpha  - Reject H0\n",
    "        # If pvalue >= alpha- Don't Reject H0 \n",
    "        # This test is a two-tailed test and the pvalue calculated is already\n",
    "        # multiplied by factor of two. In this case it is necessary to compare \n",
    "        # obtained pvalue direcly with the significance level alpha = 5%\n",
    "        \n",
    "    return bool(pvalue>alpha)\n",
    "    #pass\n",
    "q5()\n"
   ]
  },
  {
   "cell_type": "markdown",
   "metadata": {},
   "source": [
    "## Questão 6\n",
    "\n",
    "Repita o procedimento da questão 5, mas agora entre as alturas de `bra` e `can`. Podemos afimar agora que as médias são estatisticamente iguais? Reponda com um boolean (`True` ou `False`)."
   ]
  },
  {
   "cell_type": "code",
   "execution_count": 14,
   "metadata": {},
   "outputs": [
    {
     "data": {
      "text/plain": [
       "True"
      ]
     },
     "execution_count": 14,
     "metadata": {},
     "output_type": "execute_result"
    }
   ],
   "source": [
    "def q6():\n",
    "    # Retorne aqui o resultado da questão 6.\n",
    "    # Hypothesis test for the height of Brazilian and Canadiens athletes (The two-tailed p-value)\n",
    "    statistic, pvalue = sct.ttest_ind(athletes_bra['height'], athletes_can['height'], equal_var=False, nan_policy='omit')\n",
    "    \n",
    "    # HO -> the two averages are statistically equal\n",
    "    # H1 -> the two averages are statistically non equal\n",
    "        # If pvalue < alpha  - Reject H0\n",
    "        # If pvalue >= alpha - Don't Reject H0 \n",
    "        # This test is a two-tailed test and the pvalue calculated is already\n",
    "        # multiplied by factor of two. In this case it is necessary to compare \n",
    "        # obtained pvalue direcly with the significance level alpha = 5%\n",
    "        \n",
    "    return bool(pvalue>alpha)\n",
    "    #pass\n",
    "q6()\n"
   ]
  },
  {
   "cell_type": "markdown",
   "metadata": {},
   "source": [
    "## Questão 7\n",
    "\n",
    "Repita o procedimento da questão 6, mas agora entre as alturas de `usa` e `can`. Qual o valor do p-valor retornado? Responda como um único escalar arredondado para oito casas decimais."
   ]
  },
  {
   "cell_type": "code",
   "execution_count": 15,
   "metadata": {},
   "outputs": [
    {
     "data": {
      "text/plain": [
       "0.00046601"
      ]
     },
     "execution_count": 15,
     "metadata": {},
     "output_type": "execute_result"
    }
   ],
   "source": [
    "def q7():\n",
    "    # Retorne aqui o resultado da questão 7.\n",
    "    # Hypothesis test for the height of Americans and Canadiens athletes (The two-tailed p-value)\n",
    "    statistic, pvalue = sct.ttest_ind(athletes_usa['height'], athletes_can['height'], equal_var=False, nan_policy='omit')\n",
    "    \n",
    "    # HO -> the two averages are statistically equal\n",
    "    # H1 -> the two averages are statistically non equal\n",
    "        # If pvalue < alpha  - Reject H0\n",
    "        # If pvalue >= alpha - Don't Reject H0 \n",
    "        # This test is a two-tailed test and the pvalue calculated is already\n",
    "        # multiplied by factor of two. In this case it is necessary to compare \n",
    "        # obtained pvalue direcly with the significance level alpha = 5%\n",
    "        \n",
    "    return round(float(pvalue),8)\n",
    "    #pass\n",
    "q7()\n"
   ]
  },
  {
   "cell_type": "code",
   "execution_count": 16,
   "metadata": {},
   "outputs": [
    {
     "name": "stdout",
     "output_type": "stream",
     "text": [
      "Americans athletes height average =  1.787767857142857\n",
      "Americans athletes height standard deviation =  0.1189617414290981\n",
      "Americans athletes height n =  560\n",
      "Canadians athletes height average =  1.75859375\n",
      "Canadians athletes height standard deviation =  0.11803600730444999\n",
      "Canadians athletes height n =  320\n"
     ]
    }
   ],
   "source": [
    "print('Americans athletes height average = ', athletes_usa['height'].mean())\n",
    "print('Americans athletes height standard deviation = ', athletes_usa['height'].std())\n",
    "print('Americans athletes height n = ', athletes_usa['height'].count())\n",
    "\n",
    "print('Canadians athletes height average = ', athletes_can['height'].mean())\n",
    "print('Canadians athletes height standard deviation = ', athletes_can['height'].std())\n",
    "print('Canadians athletes height n = ', athletes_can['height'].count())"
   ]
  },
  {
   "cell_type": "markdown",
   "metadata": {},
   "source": [
    "__Para refletir__:\n",
    "\n",
    "* O resultado faz sentido?\n",
    "\n",
    "    _O resultado apresenta um p-valor inferior ao nível de significância do teste, indicando a rejeição da hipótese nula, ou seja, rejeitando a hipótese de que as médias das duas amostras são iguais. Considerando o baixo valor de desvio padrão e o grande número de individuos em ambas as amostras, o resultado faz sentido uma vez que as médias não são próximas. Com o teste, é possível concluir que realmente as médias não são estatisticamente iguais._\n",
    "\n",
    "* Você consegue interpretar esse p-valor?\n",
    " \n",
    "    _Considerando H0 verdadeira, o p-valor é a probabilidade da estatística do teste T ser um valor igual \n",
    "    ou superior ao resultado obtido no teste t*. Dessa forma, como foi obtido um p-valor muito baixo (0.00046) \n",
    "    pode-se interpretar que será muito raro obter o resultado obtido t* assumindo a hipótese nula verdadeira. \n",
    "    Dessa forma, esse resultado corrobora com uma evidência muito forte para rejeição de H0._\n",
    "\n",
    "\n",
    "* Você consegue chegar a esse valor de p-valor a partir da variável de estatística?\n",
    "\n",
    "    _O p-valor pode ser obtido a partir da função SF (survival function), a qual retorna o valor de 1-cdf._\n",
    "    "
   ]
  },
  {
   "cell_type": "code",
   "execution_count": 17,
   "metadata": {},
   "outputs": [
    {
     "name": "stdout",
     "output_type": "stream",
     "text": [
      "A estatística do teste obtida é t = 3.516987632488539\n",
      "O p-valor estimado é 0.00045885\n",
      "Valor próximo ao obtido no teste, p-valor_teste =  0.00046601\n",
      "A diferença é consequência da aproximação realizada no cálculo do número de graus de liberdade\n"
     ]
    }
   ],
   "source": [
    "statistic, pvalue_test = sct.ttest_ind(athletes_usa['height'], athletes_can['height'], equal_var=False, nan_policy='omit')\n",
    "print('A estatística do teste obtida é t =', statistic)\n",
    "dof =  athletes_usa['height'].count() + athletes_can['height'].count()  - 2  # It is not the real degree of freedon \n",
    "                                                                             # This is the degree of freedon for a two samples\n",
    "                                                                             # with equal variances.\n",
    "pvalue = sct.t.sf(statistic, dof)*2   # you double the calculated value because it is a bicaudal test.\n",
    "print(\"O p-valor estimado é\", round(pvalue,8))\n",
    "print(\"Valor próximo ao obtido no teste, p-valor_teste = \", round(pvalue_test,8))\n",
    "print(\"A diferença é consequência da aproximação realizada no cálculo do número de graus de liberdade\")"
   ]
  },
  {
   "cell_type": "code",
   "execution_count": null,
   "metadata": {},
   "outputs": [],
   "source": []
  }
 ],
 "metadata": {
  "kernelspec": {
   "display_name": "Python 3",
   "language": "python",
   "name": "python3"
  },
  "language_info": {
   "codemirror_mode": {
    "name": "ipython",
    "version": 3
   },
   "file_extension": ".py",
   "mimetype": "text/x-python",
   "name": "python",
   "nbconvert_exporter": "python",
   "pygments_lexer": "ipython3",
   "version": "3.7.4"
  }
 },
 "nbformat": 4,
 "nbformat_minor": 2
}
